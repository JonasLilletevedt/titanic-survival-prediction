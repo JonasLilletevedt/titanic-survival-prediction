{
 "cells": [
  {
   "cell_type": "markdown",
   "id": "b673d79d",
   "metadata": {},
   "source": [
    "# Titanic Survival Prediction: 01 - Data Cleaning and Feature Engineering\n",
    "*Date: TODO*\n",
    "*Author: Jonas Lilletvedt*\n",
    "\n",
    "--- \n",
    "\n",
    "## 1. Introduction and Setup\n",
    "\n",
    "### 1.1. Objective\n",
    "\n",
    "In this notebook we will focus on data cleaning and feature engineering. Building on the findings from our initial exploration in `00_initial_data_exploration.ipynb`, this notebook's primary objective is to construct a robust end-to-end pre-processing pipeline. This pipeline will transform raw data into clean, feature-rich dataset ready for modeling, while ensuring results are reproducible and free from data leakage.\n",
    "\n",
    "To achieve this, our pipeline will systematically perform these tasks:\n",
    "1.  **Data Cleaning and Imputation:**\n",
    "    *   Address missing data in `Age`, `Embarked`.\n",
    "    *   Normalize the positive skewed data in `Fare`.\n",
    "2.  **Advanced Feature Engineering:**\n",
    "    *   Extract `Title` from `Name` column to act as a proxy for age, sex, marriage- and social-status.\n",
    "    *   Create a binned `FamilySize` feature from `SibSp` and `Parch`.\n",
    "    *   Derive `Deck` (vertical location) and `Zone` (horizontal location) from `Cabin`.\n",
    "    *   Bin the `Age` feature to better represent the non-linear relationship to `Survived`.\n",
    "\n",
    "The entire process will be wrapped in a `scikit-learn` `Pipeline`, implemented using a set of custom transformers for our distinct logic, and a `ColumnTransformer` for standard pre-processing tasks.\n",
    "\n",
    "### 1.2 Recap of Findings from Exploratory Data Analysis\n",
    "\n",
    "The preceding data analysis (`00_initial_data_exploration.ipynb`) revealed several key insights and quality issues that will determine our work here:\n",
    "\n",
    "**Key Predictive Relationships:**\n",
    "*   **Dominant Predictors:** `Sex` and `Pclass` were found to be the strongest predictor for survival.\n",
    "    *   Females had a vastly higher survival rate (~74%) then males (~18%).\n",
    "    *   There was a clear linear relationship between passenger class and survival rate. First class passengers had a survival rate of ~63% compared to second and first class passengers ~63% and ~24% respectively.\n",
    "\n",
    "**Data Quality and Structural Issues:**\n",
    "*   **Missing Data:** Multiple columns were missing significant amounts of data.\n",
    "    *   `Cabin`(~77% missing)\n",
    "    *   `Age` (~20% missing)\n",
    "    *   `Embarked` (2 missing values)\n",
    "*   **Outliers and Skewness:** The `Fare` column show a substantial discrepancy in the 75% quantile (31$) and max value (512$).\n",
    "*   **Features Requiring Transformation:** The columns `Name`, `Ticket` and `Cabin` are not suitable for direct use but contain valuable information that can be extracted:\n",
    "    *   `Name` can be deconstructed to extract `Title` (a proxy for sex, age, marriage- and social-status) and `Surname` for family identification. \n",
    "    *   From `Cabin` we can gather positional information for `Deck` (vertical location) and `Zone` (horizontal location).\n",
    "    *   `SibSp` and `Parch`can be combined for a more powerful feature, `FamilySize`."
   ]
  },
  {
   "cell_type": "markdown",
   "id": "8dfd0e4b",
   "metadata": {},
   "source": [
    "## 2. Data Loading and Setup\n",
    "\n",
    "---\n",
    "\n",
    "The first step in this notebook is to load in the correct libraries followed by the train and test datasets.\n",
    "\n",
    "All modifications will be applied to both the `train` and `test` sets for consistency. To prevent data leakage and ensure our model's performance is realistically evaluated, all transformations parameters -- such as values for imputation or scaling factors -- will be extracted solely from the `train` dataset. The test must and will only be used for model evaluation, and not influence any part of the data analysis or pre-processing steps."
   ]
  },
  {
   "cell_type": "markdown",
   "id": "2a3edd1c",
   "metadata": {
    "vscode": {
     "languageId": "plaintext"
    }
   },
   "source": [
    "### 2.1. Library Imports"
   ]
  },
  {
   "cell_type": "code",
   "execution_count": 14,
   "id": "cf6be1d5",
   "metadata": {},
   "outputs": [],
   "source": [
    "# Import necessary libraries\n",
    "\n",
    "# Data manipulation and analysis\n",
    "import numpy as np\n",
    "import pandas as pd\n",
    "\n",
    "# Visualization\n",
    "import matplotlib.pyplot as plt\n",
    "import seaborn as sns\n",
    "\n",
    "# Scikit-learn tools for preprocessing and modeling\n",
    "from sklearn.model_selection import train_test_split\n",
    "from sklearn.pipeline import Pipeline\n",
    "from sklearn.compose import ColumnTransformer\n",
    "from sklearn.impute import SimpleImputer\n",
    "from sklearn.preprocessing import StandardScaler, OneHotEncoder\n",
    "from sklearn.base import BaseEstimator, TransformerMixin"
   ]
  },
  {
   "cell_type": "markdown",
   "id": "82fff610",
   "metadata": {},
   "source": [
    "### 2.2. Load Datasets"
   ]
  },
  {
   "cell_type": "code",
   "execution_count": 15,
   "id": "d96677e9",
   "metadata": {},
   "outputs": [],
   "source": [
    "# Load datasets\n",
    "df_train = pd.read_csv('../data/01_raw/train.csv')\n",
    "df_test = pd.read_csv('../data/01_raw/test.csv')"
   ]
  },
  {
   "cell_type": "markdown",
   "id": "dd1273d5",
   "metadata": {},
   "source": [
    "### 2.3. Initial Inspection \n",
    "\n",
    "A quick inspection to check the dataset are loaded properly and expected. "
   ]
  },
  {
   "cell_type": "markdown",
   "id": "98097ae2",
   "metadata": {},
   "source": [
    "**Dataset Shapes:**"
   ]
  },
  {
   "cell_type": "code",
   "execution_count": 16,
   "id": "8c7b24e4",
   "metadata": {},
   "outputs": [
    {
     "name": "stdout",
     "output_type": "stream",
     "text": [
      "Training data shape: (891, 12)\n",
      "Test data shape: (418, 11)\n"
     ]
    }
   ],
   "source": [
    "# Check shape of each dataset\n",
    "print(f'Training data shape: {df_train.shape}')\n",
    "print(f'Test data shape: {df_test.shape}')"
   ]
  },
  {
   "cell_type": "markdown",
   "id": "4be7adfb",
   "metadata": {},
   "source": [
    "**Data Preview:**"
   ]
  },
  {
   "cell_type": "code",
   "execution_count": 17,
   "id": "b80a243c",
   "metadata": {},
   "outputs": [
    {
     "data": {
      "text/html": [
       "<div>\n",
       "<style scoped>\n",
       "    .dataframe tbody tr th:only-of-type {\n",
       "        vertical-align: middle;\n",
       "    }\n",
       "\n",
       "    .dataframe tbody tr th {\n",
       "        vertical-align: top;\n",
       "    }\n",
       "\n",
       "    .dataframe thead th {\n",
       "        text-align: right;\n",
       "    }\n",
       "</style>\n",
       "<table border=\"1\" class=\"dataframe\">\n",
       "  <thead>\n",
       "    <tr style=\"text-align: right;\">\n",
       "      <th></th>\n",
       "      <th>PassengerId</th>\n",
       "      <th>Survived</th>\n",
       "      <th>Pclass</th>\n",
       "      <th>Name</th>\n",
       "      <th>Sex</th>\n",
       "      <th>Age</th>\n",
       "      <th>SibSp</th>\n",
       "      <th>Parch</th>\n",
       "      <th>Ticket</th>\n",
       "      <th>Fare</th>\n",
       "      <th>Cabin</th>\n",
       "      <th>Embarked</th>\n",
       "    </tr>\n",
       "  </thead>\n",
       "  <tbody>\n",
       "    <tr>\n",
       "      <th>0</th>\n",
       "      <td>1</td>\n",
       "      <td>0</td>\n",
       "      <td>3</td>\n",
       "      <td>Braund, Mr. Owen Harris</td>\n",
       "      <td>male</td>\n",
       "      <td>22.0</td>\n",
       "      <td>1</td>\n",
       "      <td>0</td>\n",
       "      <td>A/5 21171</td>\n",
       "      <td>7.2500</td>\n",
       "      <td>NaN</td>\n",
       "      <td>S</td>\n",
       "    </tr>\n",
       "    <tr>\n",
       "      <th>1</th>\n",
       "      <td>2</td>\n",
       "      <td>1</td>\n",
       "      <td>1</td>\n",
       "      <td>Cumings, Mrs. John Bradley (Florence Briggs Th...</td>\n",
       "      <td>female</td>\n",
       "      <td>38.0</td>\n",
       "      <td>1</td>\n",
       "      <td>0</td>\n",
       "      <td>PC 17599</td>\n",
       "      <td>71.2833</td>\n",
       "      <td>C85</td>\n",
       "      <td>C</td>\n",
       "    </tr>\n",
       "    <tr>\n",
       "      <th>2</th>\n",
       "      <td>3</td>\n",
       "      <td>1</td>\n",
       "      <td>3</td>\n",
       "      <td>Heikkinen, Miss. Laina</td>\n",
       "      <td>female</td>\n",
       "      <td>26.0</td>\n",
       "      <td>0</td>\n",
       "      <td>0</td>\n",
       "      <td>STON/O2. 3101282</td>\n",
       "      <td>7.9250</td>\n",
       "      <td>NaN</td>\n",
       "      <td>S</td>\n",
       "    </tr>\n",
       "    <tr>\n",
       "      <th>3</th>\n",
       "      <td>4</td>\n",
       "      <td>1</td>\n",
       "      <td>1</td>\n",
       "      <td>Futrelle, Mrs. Jacques Heath (Lily May Peel)</td>\n",
       "      <td>female</td>\n",
       "      <td>35.0</td>\n",
       "      <td>1</td>\n",
       "      <td>0</td>\n",
       "      <td>113803</td>\n",
       "      <td>53.1000</td>\n",
       "      <td>C123</td>\n",
       "      <td>S</td>\n",
       "    </tr>\n",
       "    <tr>\n",
       "      <th>4</th>\n",
       "      <td>5</td>\n",
       "      <td>0</td>\n",
       "      <td>3</td>\n",
       "      <td>Allen, Mr. William Henry</td>\n",
       "      <td>male</td>\n",
       "      <td>35.0</td>\n",
       "      <td>0</td>\n",
       "      <td>0</td>\n",
       "      <td>373450</td>\n",
       "      <td>8.0500</td>\n",
       "      <td>NaN</td>\n",
       "      <td>S</td>\n",
       "    </tr>\n",
       "  </tbody>\n",
       "</table>\n",
       "</div>"
      ],
      "text/plain": [
       "   PassengerId  Survived  Pclass  \\\n",
       "0            1         0       3   \n",
       "1            2         1       1   \n",
       "2            3         1       3   \n",
       "3            4         1       1   \n",
       "4            5         0       3   \n",
       "\n",
       "                                                Name     Sex   Age  SibSp  \\\n",
       "0                            Braund, Mr. Owen Harris    male  22.0      1   \n",
       "1  Cumings, Mrs. John Bradley (Florence Briggs Th...  female  38.0      1   \n",
       "2                             Heikkinen, Miss. Laina  female  26.0      0   \n",
       "3       Futrelle, Mrs. Jacques Heath (Lily May Peel)  female  35.0      1   \n",
       "4                           Allen, Mr. William Henry    male  35.0      0   \n",
       "\n",
       "   Parch            Ticket     Fare Cabin Embarked  \n",
       "0      0         A/5 21171   7.2500   NaN        S  \n",
       "1      0          PC 17599  71.2833   C85        C  \n",
       "2      0  STON/O2. 3101282   7.9250   NaN        S  \n",
       "3      0            113803  53.1000  C123        S  \n",
       "4      0            373450   8.0500   NaN        S  "
      ]
     },
     "execution_count": 17,
     "metadata": {},
     "output_type": "execute_result"
    }
   ],
   "source": [
    "# Check five first rows of `df_train`\n",
    "df_train.head()"
   ]
  },
  {
   "cell_type": "code",
   "execution_count": 18,
   "id": "da70bfad",
   "metadata": {},
   "outputs": [
    {
     "data": {
      "text/html": [
       "<div>\n",
       "<style scoped>\n",
       "    .dataframe tbody tr th:only-of-type {\n",
       "        vertical-align: middle;\n",
       "    }\n",
       "\n",
       "    .dataframe tbody tr th {\n",
       "        vertical-align: top;\n",
       "    }\n",
       "\n",
       "    .dataframe thead th {\n",
       "        text-align: right;\n",
       "    }\n",
       "</style>\n",
       "<table border=\"1\" class=\"dataframe\">\n",
       "  <thead>\n",
       "    <tr style=\"text-align: right;\">\n",
       "      <th></th>\n",
       "      <th>PassengerId</th>\n",
       "      <th>Pclass</th>\n",
       "      <th>Name</th>\n",
       "      <th>Sex</th>\n",
       "      <th>Age</th>\n",
       "      <th>SibSp</th>\n",
       "      <th>Parch</th>\n",
       "      <th>Ticket</th>\n",
       "      <th>Fare</th>\n",
       "      <th>Cabin</th>\n",
       "      <th>Embarked</th>\n",
       "    </tr>\n",
       "  </thead>\n",
       "  <tbody>\n",
       "    <tr>\n",
       "      <th>0</th>\n",
       "      <td>892</td>\n",
       "      <td>3</td>\n",
       "      <td>Kelly, Mr. James</td>\n",
       "      <td>male</td>\n",
       "      <td>34.5</td>\n",
       "      <td>0</td>\n",
       "      <td>0</td>\n",
       "      <td>330911</td>\n",
       "      <td>7.8292</td>\n",
       "      <td>NaN</td>\n",
       "      <td>Q</td>\n",
       "    </tr>\n",
       "    <tr>\n",
       "      <th>1</th>\n",
       "      <td>893</td>\n",
       "      <td>3</td>\n",
       "      <td>Wilkes, Mrs. James (Ellen Needs)</td>\n",
       "      <td>female</td>\n",
       "      <td>47.0</td>\n",
       "      <td>1</td>\n",
       "      <td>0</td>\n",
       "      <td>363272</td>\n",
       "      <td>7.0000</td>\n",
       "      <td>NaN</td>\n",
       "      <td>S</td>\n",
       "    </tr>\n",
       "    <tr>\n",
       "      <th>2</th>\n",
       "      <td>894</td>\n",
       "      <td>2</td>\n",
       "      <td>Myles, Mr. Thomas Francis</td>\n",
       "      <td>male</td>\n",
       "      <td>62.0</td>\n",
       "      <td>0</td>\n",
       "      <td>0</td>\n",
       "      <td>240276</td>\n",
       "      <td>9.6875</td>\n",
       "      <td>NaN</td>\n",
       "      <td>Q</td>\n",
       "    </tr>\n",
       "    <tr>\n",
       "      <th>3</th>\n",
       "      <td>895</td>\n",
       "      <td>3</td>\n",
       "      <td>Wirz, Mr. Albert</td>\n",
       "      <td>male</td>\n",
       "      <td>27.0</td>\n",
       "      <td>0</td>\n",
       "      <td>0</td>\n",
       "      <td>315154</td>\n",
       "      <td>8.6625</td>\n",
       "      <td>NaN</td>\n",
       "      <td>S</td>\n",
       "    </tr>\n",
       "    <tr>\n",
       "      <th>4</th>\n",
       "      <td>896</td>\n",
       "      <td>3</td>\n",
       "      <td>Hirvonen, Mrs. Alexander (Helga E Lindqvist)</td>\n",
       "      <td>female</td>\n",
       "      <td>22.0</td>\n",
       "      <td>1</td>\n",
       "      <td>1</td>\n",
       "      <td>3101298</td>\n",
       "      <td>12.2875</td>\n",
       "      <td>NaN</td>\n",
       "      <td>S</td>\n",
       "    </tr>\n",
       "  </tbody>\n",
       "</table>\n",
       "</div>"
      ],
      "text/plain": [
       "   PassengerId  Pclass                                          Name     Sex  \\\n",
       "0          892       3                              Kelly, Mr. James    male   \n",
       "1          893       3              Wilkes, Mrs. James (Ellen Needs)  female   \n",
       "2          894       2                     Myles, Mr. Thomas Francis    male   \n",
       "3          895       3                              Wirz, Mr. Albert    male   \n",
       "4          896       3  Hirvonen, Mrs. Alexander (Helga E Lindqvist)  female   \n",
       "\n",
       "    Age  SibSp  Parch   Ticket     Fare Cabin Embarked  \n",
       "0  34.5      0      0   330911   7.8292   NaN        Q  \n",
       "1  47.0      1      0   363272   7.0000   NaN        S  \n",
       "2  62.0      0      0   240276   9.6875   NaN        Q  \n",
       "3  27.0      0      0   315154   8.6625   NaN        S  \n",
       "4  22.0      1      1  3101298  12.2875   NaN        S  "
      ]
     },
     "execution_count": 18,
     "metadata": {},
     "output_type": "execute_result"
    }
   ],
   "source": [
    "# Check five first rows of `df_test`\n",
    "df_test.head()"
   ]
  },
  {
   "cell_type": "markdown",
   "id": "50dab457",
   "metadata": {},
   "source": [
    "**Data Types and Missing Values:**"
   ]
  },
  {
   "cell_type": "code",
   "execution_count": 19,
   "id": "d73f0689",
   "metadata": {},
   "outputs": [
    {
     "name": "stdout",
     "output_type": "stream",
     "text": [
      "<class 'pandas.core.frame.DataFrame'>\n",
      "RangeIndex: 891 entries, 0 to 890\n",
      "Data columns (total 12 columns):\n",
      " #   Column       Non-Null Count  Dtype  \n",
      "---  ------       --------------  -----  \n",
      " 0   PassengerId  891 non-null    int64  \n",
      " 1   Survived     891 non-null    int64  \n",
      " 2   Pclass       891 non-null    int64  \n",
      " 3   Name         891 non-null    object \n",
      " 4   Sex          891 non-null    object \n",
      " 5   Age          714 non-null    float64\n",
      " 6   SibSp        891 non-null    int64  \n",
      " 7   Parch        891 non-null    int64  \n",
      " 8   Ticket       891 non-null    object \n",
      " 9   Fare         891 non-null    float64\n",
      " 10  Cabin        204 non-null    object \n",
      " 11  Embarked     889 non-null    object \n",
      "dtypes: float64(2), int64(5), object(5)\n",
      "memory usage: 83.7+ KB\n"
     ]
    }
   ],
   "source": [
    "# Types and missing values for `df_train`\n",
    "df_train.info()"
   ]
  },
  {
   "cell_type": "code",
   "execution_count": 20,
   "id": "08f358c6",
   "metadata": {},
   "outputs": [
    {
     "name": "stdout",
     "output_type": "stream",
     "text": [
      "<class 'pandas.core.frame.DataFrame'>\n",
      "RangeIndex: 418 entries, 0 to 417\n",
      "Data columns (total 11 columns):\n",
      " #   Column       Non-Null Count  Dtype  \n",
      "---  ------       --------------  -----  \n",
      " 0   PassengerId  418 non-null    int64  \n",
      " 1   Pclass       418 non-null    int64  \n",
      " 2   Name         418 non-null    object \n",
      " 3   Sex          418 non-null    object \n",
      " 4   Age          332 non-null    float64\n",
      " 5   SibSp        418 non-null    int64  \n",
      " 6   Parch        418 non-null    int64  \n",
      " 7   Ticket       418 non-null    object \n",
      " 8   Fare         417 non-null    float64\n",
      " 9   Cabin        91 non-null     object \n",
      " 10  Embarked     418 non-null    object \n",
      "dtypes: float64(2), int64(4), object(5)\n",
      "memory usage: 36.1+ KB\n"
     ]
    }
   ],
   "source": [
    "# Types and missing values for `df_test`\n",
    "df_test.info()"
   ]
  },
  {
   "cell_type": "markdown",
   "id": "8d10ed65",
   "metadata": {},
   "source": [
    "Unlike our train set we also have missing values in `Fare` in addition to `Cabin` and `Age`. \n",
    "\n",
    "Now that we have gotten a feel for the data, and checked everything is working as expected we will move on to `Data Cleaning and Imputation`."
   ]
  },
  {
   "cell_type": "markdown",
   "id": "7ac2471c",
   "metadata": {},
   "source": [
    "### 2.4. Initial Findings and Plan Adjustments\n",
    "\n",
    "The inspection confirms the missing values in `Age`, `Cabin` and `Embarked` in the training set, as we expected from the EDA.\n",
    "\n",
    "Alongside the previous findings we have also discovered missing values in the test set, this include `Age` and `Cabin` similar to the train set. In addition we the test set have one missing value in `Fare`. Thus, our pipeline must be able to handle `Fare` imputation along the previous transformers."
   ]
  },
  {
   "cell_type": "markdown",
   "id": "040bf891",
   "metadata": {},
   "source": [
    "## 3. Exploratory Feature Engineering and Validation\n",
    "\n",
    "--- \n",
    "\n",
    "Feature selection is an important step before pipeline development. We will therefore perform an exploratory analysis to evaluate the value of the proposed engineered features.\n",
    "\n",
    "Thus, this section will act as an 'scratchpad' for our feature engineering ideas. "
   ]
  },
  {
   "cell_type": "markdown",
   "id": "3d7b9501",
   "metadata": {},
   "source": [
    "### 3.1. Evaluating the `Title` feature\n",
    "\n",
    "We will begin our feature engineering exploration with `Title`. As hypothesized in the introduction, a passenger's title has the potential to be a strong proxy for age, and survival. \n",
    "\n",
    "It is crucial to evaluate `Title` first, because our `Age` imputation strategy will depend on it. We will analyze `Title`'s relationship with both variables accordingly."
   ]
  },
  {
   "cell_type": "code",
   "execution_count": 21,
   "id": "09bce557",
   "metadata": {},
   "outputs": [
    {
     "name": "stdout",
     "output_type": "stream",
     "text": [
      "Missing Surnames: 0\n",
      "Missing Titles: 0\n"
     ]
    },
    {
     "data": {
      "text/html": [
       "<div>\n",
       "<style scoped>\n",
       "    .dataframe tbody tr th:only-of-type {\n",
       "        vertical-align: middle;\n",
       "    }\n",
       "\n",
       "    .dataframe tbody tr th {\n",
       "        vertical-align: top;\n",
       "    }\n",
       "\n",
       "    .dataframe thead th {\n",
       "        text-align: right;\n",
       "    }\n",
       "</style>\n",
       "<table border=\"1\" class=\"dataframe\">\n",
       "  <thead>\n",
       "    <tr style=\"text-align: right;\">\n",
       "      <th></th>\n",
       "      <th>PassengerId</th>\n",
       "      <th>Survived</th>\n",
       "      <th>Pclass</th>\n",
       "      <th>Name</th>\n",
       "      <th>Sex</th>\n",
       "      <th>Age</th>\n",
       "      <th>SibSp</th>\n",
       "      <th>Parch</th>\n",
       "      <th>Ticket</th>\n",
       "      <th>Fare</th>\n",
       "      <th>Cabin</th>\n",
       "      <th>Embarked</th>\n",
       "      <th>Surname_feat</th>\n",
       "      <th>Title_feat</th>\n",
       "    </tr>\n",
       "  </thead>\n",
       "  <tbody>\n",
       "    <tr>\n",
       "      <th>0</th>\n",
       "      <td>1</td>\n",
       "      <td>0</td>\n",
       "      <td>3</td>\n",
       "      <td>Braund, Mr. Owen Harris</td>\n",
       "      <td>male</td>\n",
       "      <td>22.0</td>\n",
       "      <td>1</td>\n",
       "      <td>0</td>\n",
       "      <td>A/5 21171</td>\n",
       "      <td>7.2500</td>\n",
       "      <td>NaN</td>\n",
       "      <td>S</td>\n",
       "      <td>Braund</td>\n",
       "      <td>Mr.</td>\n",
       "    </tr>\n",
       "    <tr>\n",
       "      <th>1</th>\n",
       "      <td>2</td>\n",
       "      <td>1</td>\n",
       "      <td>1</td>\n",
       "      <td>Cumings, Mrs. John Bradley (Florence Briggs Th...</td>\n",
       "      <td>female</td>\n",
       "      <td>38.0</td>\n",
       "      <td>1</td>\n",
       "      <td>0</td>\n",
       "      <td>PC 17599</td>\n",
       "      <td>71.2833</td>\n",
       "      <td>C85</td>\n",
       "      <td>C</td>\n",
       "      <td>Cumings</td>\n",
       "      <td>Mrs.</td>\n",
       "    </tr>\n",
       "    <tr>\n",
       "      <th>2</th>\n",
       "      <td>3</td>\n",
       "      <td>1</td>\n",
       "      <td>3</td>\n",
       "      <td>Heikkinen, Miss. Laina</td>\n",
       "      <td>female</td>\n",
       "      <td>26.0</td>\n",
       "      <td>0</td>\n",
       "      <td>0</td>\n",
       "      <td>STON/O2. 3101282</td>\n",
       "      <td>7.9250</td>\n",
       "      <td>NaN</td>\n",
       "      <td>S</td>\n",
       "      <td>Heikkinen</td>\n",
       "      <td>Miss.</td>\n",
       "    </tr>\n",
       "    <tr>\n",
       "      <th>3</th>\n",
       "      <td>4</td>\n",
       "      <td>1</td>\n",
       "      <td>1</td>\n",
       "      <td>Futrelle, Mrs. Jacques Heath (Lily May Peel)</td>\n",
       "      <td>female</td>\n",
       "      <td>35.0</td>\n",
       "      <td>1</td>\n",
       "      <td>0</td>\n",
       "      <td>113803</td>\n",
       "      <td>53.1000</td>\n",
       "      <td>C123</td>\n",
       "      <td>S</td>\n",
       "      <td>Futrelle</td>\n",
       "      <td>Mrs.</td>\n",
       "    </tr>\n",
       "    <tr>\n",
       "      <th>4</th>\n",
       "      <td>5</td>\n",
       "      <td>0</td>\n",
       "      <td>3</td>\n",
       "      <td>Allen, Mr. William Henry</td>\n",
       "      <td>male</td>\n",
       "      <td>35.0</td>\n",
       "      <td>0</td>\n",
       "      <td>0</td>\n",
       "      <td>373450</td>\n",
       "      <td>8.0500</td>\n",
       "      <td>NaN</td>\n",
       "      <td>S</td>\n",
       "      <td>Allen</td>\n",
       "      <td>Mr.</td>\n",
       "    </tr>\n",
       "  </tbody>\n",
       "</table>\n",
       "</div>"
      ],
      "text/plain": [
       "   PassengerId  Survived  Pclass  \\\n",
       "0            1         0       3   \n",
       "1            2         1       1   \n",
       "2            3         1       3   \n",
       "3            4         1       1   \n",
       "4            5         0       3   \n",
       "\n",
       "                                                Name     Sex   Age  SibSp  \\\n",
       "0                            Braund, Mr. Owen Harris    male  22.0      1   \n",
       "1  Cumings, Mrs. John Bradley (Florence Briggs Th...  female  38.0      1   \n",
       "2                             Heikkinen, Miss. Laina  female  26.0      0   \n",
       "3       Futrelle, Mrs. Jacques Heath (Lily May Peel)  female  35.0      1   \n",
       "4                           Allen, Mr. William Henry    male  35.0      0   \n",
       "\n",
       "   Parch            Ticket     Fare Cabin Embarked Surname_feat Title_feat  \n",
       "0      0         A/5 21171   7.2500   NaN        S       Braund        Mr.  \n",
       "1      0          PC 17599  71.2833   C85        C      Cumings       Mrs.  \n",
       "2      0  STON/O2. 3101282   7.9250   NaN        S    Heikkinen      Miss.  \n",
       "3      0            113803  53.1000  C123        S     Futrelle       Mrs.  \n",
       "4      0            373450   8.0500   NaN        S        Allen        Mr.  "
      ]
     },
     "execution_count": 21,
     "metadata": {},
     "output_type": "execute_result"
    }
   ],
   "source": [
    "# Make copy for scratchpad\n",
    "df_scratch = df_train.copy()\n",
    "\n",
    "# Add new columns\n",
    "df_scratch['Surname_feat'] = df_scratch['Name'].str.extract(pat=r'^(.+?),', expand=False)\n",
    "df_scratch['Title_feat'] = df_scratch['Name'].str.extract(pat=' ([A-Za-z]+\\.)', expand=False)\n",
    "\n",
    "# Check it worked as expected\n",
    "#Check for null values\n",
    "print(f'''Missing Surnames: {df_scratch['Surname_feat'].isnull().sum()}''')\n",
    "print(f'''Missing Titles: {df_scratch['Title_feat'].isnull().sum()}''')\n",
    "\n",
    "# Check five first strings\n",
    "df_scratch.head()"
   ]
  },
  {
   "cell_type": "code",
   "execution_count": 22,
   "id": "1b82e81b",
   "metadata": {},
   "outputs": [],
   "source": [
    "# We will now change all *titles* with less then 10 occurrences to a new class 'Rare'\n",
    "# Rare titles\n",
    "rare_titles = df_scratch['Title_feat'].value_counts()[lambda x: x < 10]\n",
    "# Swap to 'Rare'\n",
    "df_scratch['Title_feat'] = df_scratch['Title_feat'].apply(lambda x: 'Rare' if x in rare_titles else x)"
   ]
  },
  {
   "cell_type": "markdown",
   "id": "c95f289a",
   "metadata": {},
   "source": [
    "The code is working as expected, we successfully extracted `Title` and `Surname`. We can now proceed with the analysis, the first step is to examine the relationship between `Title_feat` and `Survived`.\n",
    "\n",
    "**A Note on Naming Conventions:** *For clarity, all new features engineered will be noted with `_feat` suffix to distinguish them from the original raw variables.*"
   ]
  },
  {
   "cell_type": "code",
   "execution_count": 23,
   "id": "21acb9f9",
   "metadata": {},
   "outputs": [
    {
     "data": {
      "image/png": "[encoded data removed]",
      "text/plain": [
       "<Figure size 1000x800 with 1 Axes>"
      ]
     },
     "metadata": {},
     "output_type": "display_data"
    }
   ],
   "source": [
    "# Create figure\n",
    "fig = plt.figure(figsize=(10, 8))\n",
    "\n",
    "# Add plot\n",
    "ax = sns.barplot(data=df_scratch, x='Title_feat', hue='Title_feat', y='Survived', palette='magma', legend=False)\n",
    "\n",
    "# Labels\n",
    "plt.suptitle('Survival Rate by Passenger Title', fontsize=16)\n",
    "ax.set_ylabel('Survival Rate', fontweight='bold')\n",
    "ax.set_xlabel('Passenger Title', fontweight='bold')\n",
    "\n",
    "# Add percentage\n",
    "for p in ax.patches:\n",
    "    percentage = f'{p.get_height():.1%}'\n",
    "    x = p.get_x() + p.get_width() / 2\n",
    "    y = p.get_height()\n",
    "    ax.annotate(text=percentage, xy=(x,y), va='bottom', ha='right')\n",
    "# Show plot\n",
    "plt.show()\n"
   ]
  },
  {
   "cell_type": "markdown",
   "id": "b2bc47e0",
   "metadata": {},
   "source": [
    "**Observation from `Survival Rate by Passenger Title`:** This looks very promising, each title have a distinct survival rate compared to the others.\n",
    "*   **High Survival Groups:** Female-associated titles such as *Mrs.* (~79%) and *Miss.* (~70%) have a very high survival rate, this aligns with our previous findings in `00_initial_dat_exploration`. Young boys also seem to be favored in terms of survival (~58%). It is worth to note that young girls (*Miss.*) seem to be less prioritized than adult or and married women (*Mrs.*)\n",
    "*   **Adult men (*Mr.*) are far below all other groups** with a survival rate of mere 15.7%.\n",
    "*   **The *Rare* class** seem to be a mix of males and females, of all ages, due to their mediocre survival rate.\n",
    "\n",
    "**Conclusion:** Passenger title is a promising predictive feature for `Survived`, and will be included for the final pipeline.\n",
    "\n",
    "**Note for Further Iterations:** The *Rare* category could be further refined in a later iteration. Instead of grouping all uncommon titles, we could implement a more nuanced mapping, based on other features. \n",
    "\n",
    "For a example, a rule based system could be developed using domain knowledge:\n",
    "*   A passenger with title *Dr.* could be re-categorized as an *Mr.* if male and *Mrs.* if female. This way we can make a clear distinction on sex, and can take use of the strong predictive ability of **Sex**.\n",
    "*   Any male passengers with a *Rare* title would be placed in *Master.*, subsequently any young females would be placed in *Miss.*."
   ]
  },
  {
   "cell_type": "markdown",
   "id": "ca0bf81b",
   "metadata": {},
   "source": [
    "We will now analyze the relationship between `Title_feat` and `Age` to see if we can use `Title_feat` to make accurate imputations for `Age`."
   ]
  },
  {
   "cell_type": "code",
   "execution_count": 24,
   "id": "a910dd08",
   "metadata": {},
   "outputs": [
    {
     "data": {
      "image/png": "[encoded data removed]",
      "text/plain": [
       "<Figure size 1000x800 with 1 Axes>"
      ]
     },
     "metadata": {},
     "output_type": "display_data"
    }
   ],
   "source": [
    "# Create figure\n",
    "fig = plt.figure(figsize=(10,8))\n",
    "\n",
    "# Add plot\n",
    "ax = sns.barplot(data=df_scratch, x='Title_feat', y='Age', hue='Title_feat')\n",
    "\n",
    "# Labels\n",
    "ax.set_ylabel('Median Age', fontweight='bold')\n",
    "ax.set_xlabel('Passenger Title', fontweight='bold')\n",
    "plt.suptitle('Mean Age by Passenger Title', fontsize=16)\n",
    "\n",
    "plt.show()"
   ]
  },
  {
   "cell_type": "markdown",
   "id": "180924b7",
   "metadata": {},
   "source": [
    "**Observations from `Mean Age by Passenger Title`:** The figure clearly show a clear association between passenger title and age. Furthermore, the variance is small across all titles. This indicates `Title_feat` as an excellent proxy for age, and is well suited for imputations. \n",
    "\n",
    "**Conclusion:** `Title_feat` is a great stratification variable for imputing `Age`, thus we will move forward as `Title_feat` as basis for imputation.\n",
    "\n",
    "**A Note on the Previous Note:** `Rare` primarily looks to be a passenger title exclusively for elderly passengers, however it still might be beneficial to make a distinction between the sexes in the category."
   ]
  },
  {
   "cell_type": "markdown",
   "id": "a1f69b1d",
   "metadata": {},
   "source": [
    "### 3.2. Evaluating the `AgeBinned_feat` feature\n",
    "\n",
    "The next step is to evaluate if a binned-age feature raises the predictive value of `Age`. Since we found `Title_feat` to be a valid stratification variable and baseline for `Age` imputation, we will primarily focus on `Age` and `AgeBinned_feat` predictive value after imputation. All missing `Age` values need to be imputed and our analyze should reflect this.\n",
    "\n",
    "Previously, we considered using both `Title_feat` and `Pclass` to impute `Age`. However, due to the discovery of `Title_feat` being a strong proxy for age this appears to be unnecessary, mainly due to the low variance. In addition these minor errors in imputation is unlikely to have an impact after binning."
   ]
  },
  {
   "cell_type": "code",
   "execution_count": 25,
   "id": "b75cac72",
   "metadata": {},
   "outputs": [
    {
     "name": "stdout",
     "output_type": "stream",
     "text": [
      "Title_feat\n",
      "Master.     3.5\n",
      "Miss.      21.0\n",
      "Mr.        30.0\n",
      "Mrs.       35.0\n",
      "Rare       44.5\n",
      "Name: Age, dtype: float64\n",
      "Missing value count for Age: 0\n"
     ]
    }
   ],
   "source": [
    "# Impute missing values for `Age`\n",
    "# Calculate median for each Passenger Title -- This value will be used for imputation\n",
    "median_age_per_title = df_scratch.groupby('Title_feat')['Age'].median()\n",
    "\n",
    "# Check median for each title\n",
    "print(median_age_per_title)\n",
    "\n",
    "# Impute missing values in `Age`\n",
    "df_scratch['Age'] = df_scratch['Age'].fillna(df_scratch['Title_feat'].map(median_age_per_title))\n",
    "\n",
    "# Pring count of missing values in `Age`\n",
    "print(f'''Missing value count for Age: {df_scratch['Age'].isnull().sum()}''')"
   ]
  },
  {
   "cell_type": "markdown",
   "id": "3543ef28",
   "metadata": {},
   "source": [
    "Now that we have imputed the missing values in `Age` we will evaluate the predictive performance of `Age` against `AgeBinned_feat`.  \n",
    "\n",
    "First, we need to engineer the new feature, `AgeBinned_feat`."
   ]
  },
  {
   "cell_type": "code",
   "execution_count": null,
   "id": "bdbc499b",
   "metadata": {},
   "outputs": [
    {
     "data": {
      "text/html": [
       "<div>\n",
       "<style scoped>\n",
       "    .dataframe tbody tr th:only-of-type {\n",
       "        vertical-align: middle;\n",
       "    }\n",
       "\n",
       "    .dataframe tbody tr th {\n",
       "        vertical-align: top;\n",
       "    }\n",
       "\n",
       "    .dataframe thead th {\n",
       "        text-align: right;\n",
       "    }\n",
       "</style>\n",
       "<table border=\"1\" class=\"dataframe\">\n",
       "  <thead>\n",
       "    <tr style=\"text-align: right;\">\n",
       "      <th></th>\n",
       "      <th>PassengerId</th>\n",
       "      <th>Survived</th>\n",
       "      <th>Pclass</th>\n",
       "      <th>Name</th>\n",
       "      <th>Sex</th>\n",
       "      <th>Age</th>\n",
       "      <th>SibSp</th>\n",
       "      <th>Parch</th>\n",
       "      <th>Ticket</th>\n",
       "      <th>Fare</th>\n",
       "      <th>Cabin</th>\n",
       "      <th>Embarked</th>\n",
       "      <th>Surname_feat</th>\n",
       "      <th>Title_feat</th>\n",
       "      <th>AgeBinned_feat</th>\n",
       "    </tr>\n",
       "  </thead>\n",
       "  <tbody>\n",
       "    <tr>\n",
       "      <th>886</th>\n",
       "      <td>887</td>\n",
       "      <td>0</td>\n",
       "      <td>2</td>\n",
       "      <td>Montvila, Rev. Juozas</td>\n",
       "      <td>male</td>\n",
       "      <td>27.0</td>\n",
       "      <td>0</td>\n",
       "      <td>0</td>\n",
       "      <td>211536</td>\n",
       "      <td>13.00</td>\n",
       "      <td>NaN</td>\n",
       "      <td>S</td>\n",
       "      <td>Montvila</td>\n",
       "      <td>Rare</td>\n",
       "      <td>Adult</td>\n",
       "    </tr>\n",
       "    <tr>\n",
       "      <th>887</th>\n",
       "      <td>888</td>\n",
       "      <td>1</td>\n",
       "      <td>1</td>\n",
       "      <td>Graham, Miss. Margaret Edith</td>\n",
       "      <td>female</td>\n",
       "      <td>19.0</td>\n",
       "      <td>0</td>\n",
       "      <td>0</td>\n",
       "      <td>112053</td>\n",
       "      <td>30.00</td>\n",
       "      <td>B42</td>\n",
       "      <td>S</td>\n",
       "      <td>Graham</td>\n",
       "      <td>Miss.</td>\n",
       "      <td>Young-Adult</td>\n",
       "    </tr>\n",
       "    <tr>\n",
       "      <th>888</th>\n",
       "      <td>889</td>\n",
       "      <td>0</td>\n",
       "      <td>3</td>\n",
       "      <td>Johnston, Miss. Catherine Helen \"Carrie\"</td>\n",
       "      <td>female</td>\n",
       "      <td>21.0</td>\n",
       "      <td>1</td>\n",
       "      <td>2</td>\n",
       "      <td>W./C. 6607</td>\n",
       "      <td>23.45</td>\n",
       "      <td>NaN</td>\n",
       "      <td>S</td>\n",
       "      <td>Johnston</td>\n",
       "      <td>Miss.</td>\n",
       "      <td>Young-Adult</td>\n",
       "    </tr>\n",
       "    <tr>\n",
       "      <th>889</th>\n",
       "      <td>890</td>\n",
       "      <td>1</td>\n",
       "      <td>1</td>\n",
       "      <td>Behr, Mr. Karl Howell</td>\n",
       "      <td>male</td>\n",
       "      <td>26.0</td>\n",
       "      <td>0</td>\n",
       "      <td>0</td>\n",
       "      <td>111369</td>\n",
       "      <td>30.00</td>\n",
       "      <td>C148</td>\n",
       "      <td>C</td>\n",
       "      <td>Behr</td>\n",
       "      <td>Mr.</td>\n",
       "      <td>Adult</td>\n",
       "    </tr>\n",
       "    <tr>\n",
       "      <th>890</th>\n",
       "      <td>891</td>\n",
       "      <td>0</td>\n",
       "      <td>3</td>\n",
       "      <td>Dooley, Mr. Patrick</td>\n",
       "      <td>male</td>\n",
       "      <td>32.0</td>\n",
       "      <td>0</td>\n",
       "      <td>0</td>\n",
       "      <td>370376</td>\n",
       "      <td>7.75</td>\n",
       "      <td>NaN</td>\n",
       "      <td>Q</td>\n",
       "      <td>Dooley</td>\n",
       "      <td>Mr.</td>\n",
       "      <td>Adult</td>\n",
       "    </tr>\n",
       "  </tbody>\n",
       "</table>\n",
       "</div>"
      ],
      "text/plain": [
       "     PassengerId  Survived  Pclass                                      Name  \\\n",
       "886          887         0       2                     Montvila, Rev. Juozas   \n",
       "887          888         1       1              Graham, Miss. Margaret Edith   \n",
       "888          889         0       3  Johnston, Miss. Catherine Helen \"Carrie\"   \n",
       "889          890         1       1                     Behr, Mr. Karl Howell   \n",
       "890          891         0       3                       Dooley, Mr. Patrick   \n",
       "\n",
       "        Sex   Age  SibSp  Parch      Ticket   Fare Cabin Embarked  \\\n",
       "886    male  27.0      0      0      211536  13.00   NaN        S   \n",
       "887  female  19.0      0      0      112053  30.00   B42        S   \n",
       "888  female  21.0      1      2  W./C. 6607  23.45   NaN        S   \n",
       "889    male  26.0      0      0      111369  30.00  C148        C   \n",
       "890    male  32.0      0      0      370376   7.75   NaN        Q   \n",
       "\n",
       "    Surname_feat Title_feat AgeBinned_feat  \n",
       "886     Montvila       Rare          Adult  \n",
       "887       Graham      Miss.    Young-Adult  \n",
       "888     Johnston      Miss.    Young-Adult  \n",
       "889         Behr        Mr.          Adult  \n",
       "890       Dooley        Mr.          Adult  "
      ]
     },
     "execution_count": 31,
     "metadata": {},
     "output_type": "execute_result"
    }
   ],
   "source": [
    "# Setting up bins\n",
    "# Infant: 0-5, Child: 6-12, young-adult: 13-25, adult: 26-50, elder: 51->\n",
    "bins_labels = ['Infant', 'Child', 'Young-Adult', 'Adult', 'Senior']\n",
    "bins_edges = [0, 5, 12, 25, 50, np.inf]\n",
    "\n",
    "# Add new age-binned feature\n",
    "df_scratch['AgeBinned_feat'] = pd.cut(df_scratch['Age'], bins=bins_edges, labels=bins_labels, right=True, include_lowest=True)\n",
    "\n",
    "# Check, we used tail since the first five rows only include adults\n",
    "df_scratch.tail()"
   ]
  },
  {
   "cell_type": "markdown",
   "id": "6d92f826",
   "metadata": {},
   "source": [
    "We will now plot `AgeBinned_feat` predictive ability against `Age`."
   ]
  },
  {
   "cell_type": "code",
   "execution_count": 42,
   "id": "3a116c48",
   "metadata": {},
   "outputs": [
    {
     "data": {
      "image/png": "[encoded data removed]",
      "text/plain": [
       "<Figure size 1600x800 with 2 Axes>"
      ]
     },
     "metadata": {},
     "output_type": "display_data"
    }
   ],
   "source": [
    "# Create figure\n",
    "fig, (ax1, ax2) = plt.subplots(1, 2, figsize=(16, 8))\n",
    "\n",
    "# Add age distribution vs. survival\n",
    "sns.kdeplot(data=df_scratch, x='Age', ax=ax1, hue='Survived', cut=0, fill=True)\n",
    "\n",
    "# Add age-binned vs. survival\n",
    "sns.barplot(data=df_scratch, x='AgeBinned_feat', y='Survived', hue='AgeBinned_feat', palette='magma')\n",
    "\n",
    "# Add labels\n",
    "plt.suptitle('Age vs. AgeBinned by Survival', fontsize=16)\n",
    "ax1.set_title('Age Distribution by Survival', fontsize=12)\n",
    "ax2.set_title('Age Bins by Survival', fontsize=12)\n",
    "ax1.set_ylabel('Density', fontweight='bold')\n",
    "ax1.set_xlabel('Age', fontweight='bold')\n",
    "ax2.set_ylabel('Survival Rate', fontweight='bold')\n",
    "ax2.set_xlabel('Age Bins', fontweight='bold')\n",
    "\n",
    "plt.show()"
   ]
  },
  {
   "cell_type": "markdown",
   "id": "2dcf9cfb",
   "metadata": {},
   "source": [
    "To the left we see the distribution for age by survival, as shown in the `00_initial_data_exploration` `Age` has a clear non-linear relationship to `Survived`. This is further confirmed on the plot to the right, which represents the survival rate by age-bins. "
   ]
  },
  {
   "cell_type": "markdown",
   "id": "242bb7c0",
   "metadata": {},
   "source": [
    "## 4. Building the Pre-processing and Modeling Pipeline\n",
    "\n",
    "---\n",
    "\n",
    "In this section we will construct the components for our final, end-to-end pipeline. \n",
    "\n",
    "**A Note on Project Structure:** In a production setting, all source code for the pipeline would typically be organized into a `src`directory for modularity, reusability and testing. However, for the sake of clarity and simplicity for the reader, we will define these components below. This allows the reader to follow each step of the logic directly."
   ]
  },
  {
   "cell_type": "markdown",
   "id": "f77f432e",
   "metadata": {},
   "source": [
    "### 3.1. Custom Transformers"
   ]
  },
  {
   "cell_type": "markdown",
   "id": "ab8de219",
   "metadata": {},
   "source": [
    "## 3. Data Cleaning and Imputation\n",
    "\n",
    "---\n",
    "\n",
    "Our exploratory data analysis revealed several data quality issues that must be resolved before feature engineering can start:\n",
    "\n",
    "1.  **Handle Outliers and Skewed data in `Fare`:** Apply a log-transformation to the column.\n",
    "2.  **Impute `Embarked`:** Fill the two missing values using the mode.\n",
    "3.  **Impute `Age`:** Impute the missing values in `Age`, using the median age grouped by `Title` and `Pclass`.\n",
    "\n",
    "**Note on `Cabin`:** Due to the severe amount of missing data (~77%), a simple imputation is not feasible. Instead, we will treat this as a feature engineering task by extracting positional information to create two new features: `Deck` and `Zone`. For passengers with missing cabin data, these new features will be assigned an 'Unknown' class. Consequently, the handling of `Cabin` is deferred to the `Feature Engineering` section."
   ]
  }
 ],
 "metadata": {
  "kernelspec": {
   "display_name": "titanic-survival-prediction",
   "language": "python",
   "name": "python3"
  },
  "language_info": {
   "codemirror_mode": {
    "name": "ipython",
    "version": 3
   },
   "file_extension": ".py",
   "mimetype": "text/x-python",
   "name": "python",
   "nbconvert_exporter": "python",
   "pygments_lexer": "ipython3",
   "version": "3.11.13"
  }
 },
 "nbformat": 4,
 "nbformat_minor": 5
}
